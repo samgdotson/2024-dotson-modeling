{
 "cells": [
  {
   "cell_type": "code",
   "execution_count": 160,
   "id": "ac755456",
   "metadata": {},
   "outputs": [],
   "source": [
    "from api_wrapper import search_scopus\n",
    "import os\n",
    "# os.environ['PYB_CONFIG_FILE'] = \"./pybliometrics.cfg\"\n",
    "os.environ['PYB_CONFIG_FILE'] = \"~/.config/pybliometrics.cfg\"\n",
    "\n",
    "\n",
    "from pybliometrics.scopus import ScopusSearch, CitationOverview\n",
    "import pandas as pd\n",
    "import requests\n",
    "import yaml\n",
    "import itertools as it\n",
    "from tqdm import tqdm\n",
    "import glob\n",
    "import json\n",
    "import sys\n",
    "from time import sleep\n",
    "import numpy as np\n",
    "\n",
    "rng = np.random.default_rng()\n",
    "pd.set_option('max_colwidth', None)\n"
   ]
  },
  {
   "cell_type": "code",
   "execution_count": 120,
   "id": "960d290b",
   "metadata": {},
   "outputs": [],
   "source": [
    "def combine_terms(term_list, how='and'):\n",
    "\n",
    "    if how == 'and':\n",
    "        joiner = \" AND \"\n",
    "    elif how == 'or':\n",
    "        joiner = \" OR \"\n",
    "\n",
    "    terms = []\n",
    "    for term in term_list:\n",
    "        if term:\n",
    "            if \" \" in term:\n",
    "                terms.append(f\"\\\"{term}\\\"\")\n",
    "            else:\n",
    "                terms.append(f\"{term}\")\n",
    "        else:\n",
    "            continue\n",
    "    terms = joiner.join(terms)\n",
    "\n",
    "    return terms"
   ]
  },
  {
   "cell_type": "code",
   "execution_count": null,
   "id": "269ec34c",
   "metadata": {},
   "outputs": [],
   "source": [
    "TERM_TYPES = {'lang':'LANGUAGE',\n",
    "              'subject':'SUBJAREA'}\n",
    "def limit_terms(term_list, term_type):\n",
    "\n",
    "    limit_query = []\n",
    "    try:\n",
    "        code = TERM_TYPES[term_type]\n",
    "    except ValueError:\n",
    "        raise ValueError\n",
    "    \n",
    "    for term in term_list:\n",
    "        q = f\"LIMIT-TO({code}, \\\"term\\\")\"\n",
    "        limit_query.append(q)\n",
    "    \n",
    "    \n",
    "    return "
   ]
  },
  {
   "cell_type": "code",
   "execution_count": 144,
   "id": "bc36e7af",
   "metadata": {},
   "outputs": [],
   "source": [
    "with open('keywords.yml', 'r') as file:\n",
    "    data = yaml.load(file, yaml.SafeLoader)"
   ]
  },
  {
   "cell_type": "code",
   "execution_count": 145,
   "id": "a7bddcb9",
   "metadata": {},
   "outputs": [
    {
     "data": {
      "text/plain": [
       "dict_keys(['Include', 'Exclude', 'incl_subjects', 'excl_subjects', 'all_subjects'])"
      ]
     },
     "execution_count": 145,
     "metadata": {},
     "output_type": "execute_result"
    }
   ],
   "source": [
    "data.keys()"
   ]
  },
  {
   "cell_type": "code",
   "execution_count": 146,
   "id": "27e887c8",
   "metadata": {},
   "outputs": [
    {
     "data": {
      "text/plain": [
       "dict_keys(['Energy modelling', 'Energy justice', 'Aspects of Justice', 'Location', 'Planning processes', 'Model development'])"
      ]
     },
     "execution_count": 146,
     "metadata": {},
     "output_type": "execute_result"
    }
   ],
   "source": [
    "include = data['Include']\n",
    "include.keys()"
   ]
  },
  {
   "cell_type": "code",
   "execution_count": 147,
   "id": "db0a4f80",
   "metadata": {},
   "outputs": [],
   "source": [
    "keys_q6 = [\"Location\", \n",
    "           \"Energy justice\", \n",
    "           \"Planning processes\", \n",
    "           \"Energy modelling\"]"
   ]
  },
  {
   "cell_type": "code",
   "execution_count": 148,
   "id": "142d1a89",
   "metadata": {},
   "outputs": [],
   "source": [
    "exclude_subjects = combine_terms(data['excl_subjects'], how='or')"
   ]
  },
  {
   "cell_type": "code",
   "execution_count": 149,
   "id": "12f0f501",
   "metadata": {},
   "outputs": [
    {
     "data": {
      "text/plain": [
       "'TITLE-ABS-KEY(Municipal* OR Local* OR Community OR City) AND TITLE-ABS-KEY(justice OR equity) AND TITLE-ABS-KEY(Planning OR vision* OR goal* OR Decision*making OR Participat* OR Deliberat* OR Democra* OR Transpar*) AND TITLE-ABS-KEY(\"Energy systems\" OR \"Energy model*\" OR \"Energy system optimization\" OR Multi*objective)'"
      ]
     },
     "execution_count": 149,
     "metadata": {},
     "output_type": "execute_result"
    }
   ],
   "source": [
    "terms_list = []\n",
    "for key in keys_q6:\n",
    "    topic_terms = combine_terms(include[key], how='or')\n",
    "    query_str = f\"TITLE-ABS-KEY({topic_terms})\"\n",
    "    terms_list.append(query_str)\n",
    "    # display(query_str.strip('\\''))\n",
    "long_query = \" AND \".join(terms_list)\n",
    "long_query"
   ]
  },
  {
   "cell_type": "code",
   "execution_count": 150,
   "id": "1a635a9f",
   "metadata": {},
   "outputs": [
    {
     "data": {
      "text/plain": [
       "'building OR machine*learning OR \"artificial intelligence\" OR AI OR \"Game theor*\" OR \"Integrated assessment model\" OR Agriculture'"
      ]
     },
     "execution_count": 150,
     "metadata": {},
     "output_type": "execute_result"
    }
   ],
   "source": [
    "excluded_terms = combine_terms(data['Exclude'], how='or')\n",
    "excluded_terms"
   ]
  },
  {
   "cell_type": "code",
   "execution_count": 151,
   "id": "09ee31ec",
   "metadata": {},
   "outputs": [
    {
     "data": {
      "text/plain": [
       "'COMP OR EART OR ENER OR ENGI OR ENVI OR MATH OR DECI OR ECON OR SOCI'"
      ]
     },
     "execution_count": 151,
     "metadata": {},
     "output_type": "execute_result"
    }
   ],
   "source": [
    "subjects = combine_terms(data['incl_subjects'], how='or')\n",
    "subjects"
   ]
  },
  {
   "cell_type": "code",
   "execution_count": null,
   "id": "0726c91e",
   "metadata": {},
   "outputs": [],
   "source": []
  },
  {
   "cell_type": "code",
   "execution_count": 152,
   "id": "1b9c59b9",
   "metadata": {},
   "outputs": [
    {
     "data": {
      "text/plain": [
       "'TITLE-ABS-KEY(Municipal* OR Local* OR Community OR City) AND TITLE-ABS-KEY(justice OR equity) AND TITLE-ABS-KEY(Planning OR vision* OR goal* OR Decision*making OR Participat* OR Deliberat* OR Democra* OR Transpar*) AND TITLE-ABS-KEY(\"Energy systems\" OR \"Energy model*\" OR \"Energy system optimization\" OR Multi*objective) AND NOT TITLE-ABS-KEY(building OR machine*learning OR \"artificial intelligence\" OR AI OR \"Game theor*\" OR \"Integrated assessment model\" OR Agriculture) AND SUBJAREA(COMP OR EART OR ENER OR ENGI OR ENVI OR MATH OR DECI OR ECON OR SOCI) AND NOT SUBJAREA(HEAL OR DENT OR MEDI OR MULT OR NURS OR VETE OR AGRI OR BIOC OR IMMU OR NEUR OR PHAR OR BUSI OR CHEM OR CENG OR PSYC) AND LANGUAGE(english)'"
      ]
     },
     "execution_count": 152,
     "metadata": {},
     "output_type": "execute_result"
    }
   ],
   "source": [
    "q6 = (f\"{long_query} \" + \n",
    "        f\"AND NOT TITLE-ABS-KEY({excluded_terms}) \" +\n",
    "        f\"AND SUBJAREA({subjects}) \" +\n",
    "        f\"AND NOT SUBJAREA({exclude_subjects}) \" +\n",
    "        f\"AND LANGUAGE(english)\")\n",
    "q6"
   ]
  },
  {
   "cell_type": "code",
   "execution_count": 153,
   "id": "fe37ed7d",
   "metadata": {},
   "outputs": [],
   "source": [
    "combinations = list(it.product(*[v for k, v in include.items() if k in keys_q6]))"
   ]
  },
  {
   "cell_type": "code",
   "execution_count": 154,
   "id": "67340ec8",
   "metadata": {},
   "outputs": [
    {
     "data": {
      "text/plain": [
       "256"
      ]
     },
     "execution_count": 154,
     "metadata": {},
     "output_type": "execute_result"
    }
   ],
   "source": [
    "len(combinations)"
   ]
  },
  {
   "cell_type": "code",
   "execution_count": 104,
   "id": "1ab79949",
   "metadata": {},
   "outputs": [],
   "source": [
    "q6 = f\"TITLE-ABS-KEY({combine_terms(combinations[0])})\""
   ]
  },
  {
   "cell_type": "code",
   "execution_count": 105,
   "id": "fd6a52ec",
   "metadata": {},
   "outputs": [],
   "source": [
    "x = ScopusSearch(query=q6, view='COMPLETE')"
   ]
  },
  {
   "cell_type": "code",
   "execution_count": 106,
   "id": "3a0d3710",
   "metadata": {},
   "outputs": [],
   "source": [
    "excluded_terms = combine_terms(data['Exclude'], how='or')"
   ]
  },
  {
   "cell_type": "code",
   "execution_count": 107,
   "id": "c9b23398",
   "metadata": {},
   "outputs": [
    {
     "name": "stderr",
     "output_type": "stream",
     "text": [
      "  0%|          | 0/3 [00:00<?, ?it/s]"
     ]
    },
    {
     "name": "stdout",
     "output_type": "stream",
     "text": [
      "Query: 'Energy systems' AND 'Energy justice' AND Municipal AND 'Energy planning' , Results count: 2\n",
      "100%|██████████| 2/2 [00:00<00:00,  9.52it/s]"
     ]
    },
    {
     "name": "stderr",
     "output_type": "stream",
     "text": [
      " 33%|███▎      | 1/3 [00:00<00:00,  4.04it/s]"
     ]
    },
    {
     "name": "stdout",
     "output_type": "stream",
     "text": [
      "\n",
      "Query: 'Energy systems' AND 'Energy justice' AND Municipal AND Planning , Results count: 2\n",
      "100%|██████████| 2/2 [00:00<00:00,  9.35it/s]"
     ]
    },
    {
     "name": "stderr",
     "output_type": "stream",
     "text": [
      " 67%|██████▋   | 2/3 [00:00<00:00,  4.30it/s]"
     ]
    },
    {
     "name": "stdout",
     "output_type": "stream",
     "text": [
      "\n",
      "Query: 'Energy systems' AND 'Energy justice' AND Municipal AND 'Municipal planning' , Results count: 2\n",
      "100%|██████████| 2/2 [00:00<00:00,  9.51it/s]"
     ]
    },
    {
     "name": "stderr",
     "output_type": "stream",
     "text": [
      "100%|██████████| 3/3 [00:00<00:00,  4.30it/s]"
     ]
    },
    {
     "name": "stdout",
     "output_type": "stream",
     "text": [
      "\n"
     ]
    },
    {
     "name": "stderr",
     "output_type": "stream",
     "text": [
      "\n"
     ]
    }
   ],
   "source": [
    "frames=[]\n",
    "for combo in tqdm(combinations[:3]):\n",
    "        combined_terms = combine_terms(combo)\n",
    "        q6 = f\"TITLE-ABS-KEY({combined_terms}) AND NOT TITLE-ABS-KEY({excluded_terms})\"\n",
    "\n",
    "        x = ScopusSearch(query=q6, view='COMPLETE')\n",
    "\n",
    "        if x.results:\n",
    "            print(f\"Query: {combined_terms} , Results count: {len(x.results)}\", end='\\n', flush=True)\n",
    "            results = pd.DataFrame([doc._asdict() for doc in x.results])\n",
    "            frames.append(results)\n",
    "\n",
    "            # store the results and add the ref_docs key to store each reference\n",
    "            for doc in tqdm(x.results, file=sys.stdout):\n",
    "                sleep(0.1)\n",
    "                rand_val = rng.integers(low=0,high=1)\n",
    "                if rand_val == 1:\n",
    "                    print(\"SKIP (File already exists)\", end='\\r', flush=True)\n",
    "        else:\n",
    "            print(f\"Query: {combined_terms} , Results count: {x.results}\", end='\\n', flush=True)\n",
    "\n",
    "    "
   ]
  },
  {
   "cell_type": "code",
   "execution_count": 43,
   "id": "ce3b5257",
   "metadata": {},
   "outputs": [
    {
     "name": "stderr",
     "output_type": "stream",
     "text": [
      "  0%|          | 0/1600 [00:00<?, ?it/s]"
     ]
    },
    {
     "name": "stdout",
     "output_type": "stream",
     "text": [
      "2 matches found.\n",
      "2 matches found.\n",
      "2 matches found.\n",
      "1 matches found.\n",
      "6 matches found.\n"
     ]
    },
    {
     "name": "stderr",
     "output_type": "stream",
     "text": [
      "  0%|          | 7/1600 [00:00<02:30, 10.58it/s]"
     ]
    },
    {
     "name": "stdout",
     "output_type": "stream",
     "text": [
      "3 matches found.\n",
      "1 matches found.\n"
     ]
    },
    {
     "name": "stderr",
     "output_type": "stream",
     "text": [
      "  1%|          | 9/1600 [00:01<06:18,  4.20it/s]"
     ]
    },
    {
     "name": "stdout",
     "output_type": "stream",
     "text": [
      "2 matches found.\n"
     ]
    },
    {
     "name": "stderr",
     "output_type": "stream",
     "text": [
      "  1%|          | 11/1600 [00:03<12:30,  2.12it/s]"
     ]
    },
    {
     "name": "stdout",
     "output_type": "stream",
     "text": [
      "39 matches found.\n"
     ]
    },
    {
     "name": "stderr",
     "output_type": "stream",
     "text": [
      "  1%|          | 12/1600 [00:31<2:54:31,  6.59s/it]"
     ]
    },
    {
     "name": "stdout",
     "output_type": "stream",
     "text": [
      "39 matches found.\n"
     ]
    },
    {
     "name": "stderr",
     "output_type": "stream",
     "text": [
      "  1%|          | 13/1600 [00:42<3:19:31,  7.54s/it]"
     ]
    },
    {
     "name": "stdout",
     "output_type": "stream",
     "text": [
      "2 matches found.\n"
     ]
    },
    {
     "name": "stderr",
     "output_type": "stream",
     "text": [
      "  1%|          | 14/1600 [00:42<2:31:09,  5.72s/it]"
     ]
    },
    {
     "name": "stdout",
     "output_type": "stream",
     "text": [
      "3 matches found.\n"
     ]
    },
    {
     "name": "stderr",
     "output_type": "stream",
     "text": [
      "  1%|          | 15/1600 [01:04<4:21:05,  9.88s/it]"
     ]
    },
    {
     "name": "stdout",
     "output_type": "stream",
     "text": [
      "26 matches found.\n"
     ]
    },
    {
     "name": "stderr",
     "output_type": "stream",
     "text": [
      "  1%|          | 17/1600 [01:15<3:18:52,  7.54s/it]"
     ]
    },
    {
     "name": "stdout",
     "output_type": "stream",
     "text": [
      "39 matches found.\n"
     ]
    },
    {
     "name": "stderr",
     "output_type": "stream",
     "text": [
      "  1%|          | 17/1600 [01:23<2:10:04,  4.93s/it]\n"
     ]
    },
    {
     "ename": "KeyboardInterrupt",
     "evalue": "",
     "output_type": "error",
     "traceback": [
      "\u001b[0;31m---------------------------------------------------------------------------\u001b[0m",
      "\u001b[0;31mKeyboardInterrupt\u001b[0m                         Traceback (most recent call last)",
      "Cell \u001b[0;32mIn[43], line 5\u001b[0m\n\u001b[1;32m      3\u001b[0m \u001b[39mfor\u001b[39;00m combo \u001b[39min\u001b[39;00m tqdm(combinations):\n\u001b[1;32m      4\u001b[0m     q6 \u001b[39m=\u001b[39m \u001b[39mf\u001b[39m\u001b[39m\"\u001b[39m\u001b[39mTITLE-ABS-KEY(\u001b[39m\u001b[39m{\u001b[39;00mcombine_terms(combo)\u001b[39m}\u001b[39;00m\u001b[39m)\u001b[39m\u001b[39m\"\u001b[39m\n\u001b[0;32m----> 5\u001b[0m     x \u001b[39m=\u001b[39m ScopusSearch(query\u001b[39m=\u001b[39;49mq6, view\u001b[39m=\u001b[39;49m\u001b[39m'\u001b[39;49m\u001b[39mCOMPLETE\u001b[39;49m\u001b[39m'\u001b[39;49m)\n\u001b[1;32m      6\u001b[0m     \u001b[39mif\u001b[39;00m x\u001b[39m.\u001b[39mresults:\n\u001b[1;32m      7\u001b[0m         \u001b[39mprint\u001b[39m(\u001b[39mf\u001b[39m\u001b[39m\"\u001b[39m\u001b[39m{\u001b[39;00m\u001b[39mlen\u001b[39m(x\u001b[39m.\u001b[39mresults)\u001b[39m}\u001b[39;00m\u001b[39m matches found.\u001b[39m\u001b[39m\"\u001b[39m)\n",
      "File \u001b[0;32m~/miniforge3/lib/python3.10/site-packages/pybliometrics/scopus/scopus_search.py:206\u001b[0m, in \u001b[0;36mScopusSearch.__init__\u001b[0;34m(self, query, refresh, view, verbose, download, integrity_fields, integrity_action, subscriber, **kwds)\u001b[0m\n\u001b[1;32m    204\u001b[0m \u001b[39mself\u001b[39m\u001b[39m.\u001b[39m_query \u001b[39m=\u001b[39m query\n\u001b[1;32m    205\u001b[0m \u001b[39mself\u001b[39m\u001b[39m.\u001b[39m_view \u001b[39m=\u001b[39m view\n\u001b[0;32m--> 206\u001b[0m Search\u001b[39m.\u001b[39;49m\u001b[39m__init__\u001b[39;49m(\u001b[39mself\u001b[39;49m, query\u001b[39m=\u001b[39;49mquery, api\u001b[39m=\u001b[39;49m\u001b[39m'\u001b[39;49m\u001b[39mScopusSearch\u001b[39;49m\u001b[39m'\u001b[39;49m, count\u001b[39m=\u001b[39;49mcount,\n\u001b[1;32m    207\u001b[0m                 cursor\u001b[39m=\u001b[39;49msubscriber, download\u001b[39m=\u001b[39;49mdownload,\n\u001b[1;32m    208\u001b[0m                 verbose\u001b[39m=\u001b[39;49mverbose, \u001b[39m*\u001b[39;49m\u001b[39m*\u001b[39;49mkwds)\n",
      "File \u001b[0;32m~/miniforge3/lib/python3.10/site-packages/pybliometrics/scopus/superclasses/search.py:62\u001b[0m, in \u001b[0;36mSearch.__init__\u001b[0;34m(self, query, api, count, cursor, download, verbose, **kwds)\u001b[0m\n\u001b[1;32m     59\u001b[0m \u001b[39mself\u001b[39m\u001b[39m.\u001b[39m_cache_file_path \u001b[39m=\u001b[39m get_folder(api, \u001b[39mself\u001b[39m\u001b[39m.\u001b[39m_view)\u001b[39m/\u001b[39mstem\n\u001b[1;32m     61\u001b[0m \u001b[39m# Init\u001b[39;00m\n\u001b[0;32m---> 62\u001b[0m Base\u001b[39m.\u001b[39;49m\u001b[39m__init__\u001b[39;49m(\u001b[39mself\u001b[39;49m, params\u001b[39m=\u001b[39;49mparams, url\u001b[39m=\u001b[39;49mURLS[api], download\u001b[39m=\u001b[39;49mdownload,\n\u001b[1;32m     63\u001b[0m               api\u001b[39m=\u001b[39;49mapi, verbose\u001b[39m=\u001b[39;49mverbose)\n",
      "File \u001b[0;32m~/miniforge3/lib/python3.10/site-packages/pybliometrics/scopus/superclasses/base.py:66\u001b[0m, in \u001b[0;36mBase.__init__\u001b[0;34m(self, params, url, api, download, verbose, *args, **kwds)\u001b[0m\n\u001b[1;32m     64\u001b[0m         \u001b[39mself\u001b[39m\u001b[39m.\u001b[39m_json \u001b[39m=\u001b[39m loads(fname\u001b[39m.\u001b[39mread_text())\n\u001b[1;32m     65\u001b[0m \u001b[39melse\u001b[39;00m:\n\u001b[0;32m---> 66\u001b[0m     resp \u001b[39m=\u001b[39m get_content(url, api, params, \u001b[39m*\u001b[39;49margs, \u001b[39m*\u001b[39;49m\u001b[39m*\u001b[39;49mkwds)\n\u001b[1;32m     67\u001b[0m     header \u001b[39m=\u001b[39m resp\u001b[39m.\u001b[39mheaders\n\u001b[1;32m     69\u001b[0m     \u001b[39mif\u001b[39;00m ab_ref_retrieval:\n",
      "File \u001b[0;32m~/miniforge3/lib/python3.10/site-packages/pybliometrics/scopus/utils/get_content.py:93\u001b[0m, in \u001b[0;36mget_content\u001b[0;34m(url, api, params, **kwds)\u001b[0m\n\u001b[1;32m     91\u001b[0m \u001b[39m# Perform request, eventually replacing the current key\u001b[39;00m\n\u001b[1;32m     92\u001b[0m timeout \u001b[39m=\u001b[39m config\u001b[39m.\u001b[39mgetint(\u001b[39m\"\u001b[39m\u001b[39mRequests\u001b[39m\u001b[39m\"\u001b[39m, \u001b[39m\"\u001b[39m\u001b[39mTimeout\u001b[39m\u001b[39m\"\u001b[39m, fallback\u001b[39m=\u001b[39m\u001b[39m20\u001b[39m)\n\u001b[0;32m---> 93\u001b[0m resp \u001b[39m=\u001b[39m session\u001b[39m.\u001b[39;49mget(url, headers\u001b[39m=\u001b[39;49mheader, proxies\u001b[39m=\u001b[39;49mproxies, params\u001b[39m=\u001b[39;49mparams,\n\u001b[1;32m     94\u001b[0m                   timeout\u001b[39m=\u001b[39;49mtimeout)\n\u001b[1;32m     95\u001b[0m \u001b[39mwhile\u001b[39;00m resp\u001b[39m.\u001b[39mstatus_code \u001b[39m==\u001b[39m \u001b[39m429\u001b[39m:\n\u001b[1;32m     96\u001b[0m     \u001b[39mtry\u001b[39;00m:\n",
      "File \u001b[0;32m~/miniforge3/lib/python3.10/site-packages/requests/sessions.py:602\u001b[0m, in \u001b[0;36mSession.get\u001b[0;34m(self, url, **kwargs)\u001b[0m\n\u001b[1;32m    594\u001b[0m \u001b[39m\u001b[39m\u001b[39mr\u001b[39m\u001b[39m\"\"\"Sends a GET request. Returns :class:`Response` object.\u001b[39;00m\n\u001b[1;32m    595\u001b[0m \n\u001b[1;32m    596\u001b[0m \u001b[39m:param url: URL for the new :class:`Request` object.\u001b[39;00m\n\u001b[1;32m    597\u001b[0m \u001b[39m:param \\*\\*kwargs: Optional arguments that ``request`` takes.\u001b[39;00m\n\u001b[1;32m    598\u001b[0m \u001b[39m:rtype: requests.Response\u001b[39;00m\n\u001b[1;32m    599\u001b[0m \u001b[39m\"\"\"\u001b[39;00m\n\u001b[1;32m    601\u001b[0m kwargs\u001b[39m.\u001b[39msetdefault(\u001b[39m\"\u001b[39m\u001b[39mallow_redirects\u001b[39m\u001b[39m\"\u001b[39m, \u001b[39mTrue\u001b[39;00m)\n\u001b[0;32m--> 602\u001b[0m \u001b[39mreturn\u001b[39;00m \u001b[39mself\u001b[39;49m\u001b[39m.\u001b[39;49mrequest(\u001b[39m\"\u001b[39;49m\u001b[39mGET\u001b[39;49m\u001b[39m\"\u001b[39;49m, url, \u001b[39m*\u001b[39;49m\u001b[39m*\u001b[39;49mkwargs)\n",
      "File \u001b[0;32m~/miniforge3/lib/python3.10/site-packages/requests/sessions.py:589\u001b[0m, in \u001b[0;36mSession.request\u001b[0;34m(self, method, url, params, data, headers, cookies, files, auth, timeout, allow_redirects, proxies, hooks, stream, verify, cert, json)\u001b[0m\n\u001b[1;32m    584\u001b[0m send_kwargs \u001b[39m=\u001b[39m {\n\u001b[1;32m    585\u001b[0m     \u001b[39m\"\u001b[39m\u001b[39mtimeout\u001b[39m\u001b[39m\"\u001b[39m: timeout,\n\u001b[1;32m    586\u001b[0m     \u001b[39m\"\u001b[39m\u001b[39mallow_redirects\u001b[39m\u001b[39m\"\u001b[39m: allow_redirects,\n\u001b[1;32m    587\u001b[0m }\n\u001b[1;32m    588\u001b[0m send_kwargs\u001b[39m.\u001b[39mupdate(settings)\n\u001b[0;32m--> 589\u001b[0m resp \u001b[39m=\u001b[39m \u001b[39mself\u001b[39;49m\u001b[39m.\u001b[39;49msend(prep, \u001b[39m*\u001b[39;49m\u001b[39m*\u001b[39;49msend_kwargs)\n\u001b[1;32m    591\u001b[0m \u001b[39mreturn\u001b[39;00m resp\n",
      "File \u001b[0;32m~/miniforge3/lib/python3.10/site-packages/requests/sessions.py:703\u001b[0m, in \u001b[0;36mSession.send\u001b[0;34m(self, request, **kwargs)\u001b[0m\n\u001b[1;32m    700\u001b[0m start \u001b[39m=\u001b[39m preferred_clock()\n\u001b[1;32m    702\u001b[0m \u001b[39m# Send the request\u001b[39;00m\n\u001b[0;32m--> 703\u001b[0m r \u001b[39m=\u001b[39m adapter\u001b[39m.\u001b[39;49msend(request, \u001b[39m*\u001b[39;49m\u001b[39m*\u001b[39;49mkwargs)\n\u001b[1;32m    705\u001b[0m \u001b[39m# Total elapsed time of the request (approximately)\u001b[39;00m\n\u001b[1;32m    706\u001b[0m elapsed \u001b[39m=\u001b[39m preferred_clock() \u001b[39m-\u001b[39m start\n",
      "File \u001b[0;32m~/miniforge3/lib/python3.10/site-packages/requests/adapters.py:486\u001b[0m, in \u001b[0;36mHTTPAdapter.send\u001b[0;34m(self, request, stream, timeout, verify, cert, proxies)\u001b[0m\n\u001b[1;32m    483\u001b[0m     timeout \u001b[39m=\u001b[39m TimeoutSauce(connect\u001b[39m=\u001b[39mtimeout, read\u001b[39m=\u001b[39mtimeout)\n\u001b[1;32m    485\u001b[0m \u001b[39mtry\u001b[39;00m:\n\u001b[0;32m--> 486\u001b[0m     resp \u001b[39m=\u001b[39m conn\u001b[39m.\u001b[39;49murlopen(\n\u001b[1;32m    487\u001b[0m         method\u001b[39m=\u001b[39;49mrequest\u001b[39m.\u001b[39;49mmethod,\n\u001b[1;32m    488\u001b[0m         url\u001b[39m=\u001b[39;49murl,\n\u001b[1;32m    489\u001b[0m         body\u001b[39m=\u001b[39;49mrequest\u001b[39m.\u001b[39;49mbody,\n\u001b[1;32m    490\u001b[0m         headers\u001b[39m=\u001b[39;49mrequest\u001b[39m.\u001b[39;49mheaders,\n\u001b[1;32m    491\u001b[0m         redirect\u001b[39m=\u001b[39;49m\u001b[39mFalse\u001b[39;49;00m,\n\u001b[1;32m    492\u001b[0m         assert_same_host\u001b[39m=\u001b[39;49m\u001b[39mFalse\u001b[39;49;00m,\n\u001b[1;32m    493\u001b[0m         preload_content\u001b[39m=\u001b[39;49m\u001b[39mFalse\u001b[39;49;00m,\n\u001b[1;32m    494\u001b[0m         decode_content\u001b[39m=\u001b[39;49m\u001b[39mFalse\u001b[39;49;00m,\n\u001b[1;32m    495\u001b[0m         retries\u001b[39m=\u001b[39;49m\u001b[39mself\u001b[39;49m\u001b[39m.\u001b[39;49mmax_retries,\n\u001b[1;32m    496\u001b[0m         timeout\u001b[39m=\u001b[39;49mtimeout,\n\u001b[1;32m    497\u001b[0m         chunked\u001b[39m=\u001b[39;49mchunked,\n\u001b[1;32m    498\u001b[0m     )\n\u001b[1;32m    500\u001b[0m \u001b[39mexcept\u001b[39;00m (ProtocolError, \u001b[39mOSError\u001b[39;00m) \u001b[39mas\u001b[39;00m err:\n\u001b[1;32m    501\u001b[0m     \u001b[39mraise\u001b[39;00m \u001b[39mConnectionError\u001b[39;00m(err, request\u001b[39m=\u001b[39mrequest)\n",
      "File \u001b[0;32m~/miniforge3/lib/python3.10/site-packages/urllib3/connectionpool.py:790\u001b[0m, in \u001b[0;36mHTTPConnectionPool.urlopen\u001b[0;34m(self, method, url, body, headers, retries, redirect, assert_same_host, timeout, pool_timeout, release_conn, chunked, body_pos, preload_content, decode_content, **response_kw)\u001b[0m\n\u001b[1;32m    787\u001b[0m response_conn \u001b[39m=\u001b[39m conn \u001b[39mif\u001b[39;00m \u001b[39mnot\u001b[39;00m release_conn \u001b[39melse\u001b[39;00m \u001b[39mNone\u001b[39;00m\n\u001b[1;32m    789\u001b[0m \u001b[39m# Make the request on the HTTPConnection object\u001b[39;00m\n\u001b[0;32m--> 790\u001b[0m response \u001b[39m=\u001b[39m \u001b[39mself\u001b[39;49m\u001b[39m.\u001b[39;49m_make_request(\n\u001b[1;32m    791\u001b[0m     conn,\n\u001b[1;32m    792\u001b[0m     method,\n\u001b[1;32m    793\u001b[0m     url,\n\u001b[1;32m    794\u001b[0m     timeout\u001b[39m=\u001b[39;49mtimeout_obj,\n\u001b[1;32m    795\u001b[0m     body\u001b[39m=\u001b[39;49mbody,\n\u001b[1;32m    796\u001b[0m     headers\u001b[39m=\u001b[39;49mheaders,\n\u001b[1;32m    797\u001b[0m     chunked\u001b[39m=\u001b[39;49mchunked,\n\u001b[1;32m    798\u001b[0m     retries\u001b[39m=\u001b[39;49mretries,\n\u001b[1;32m    799\u001b[0m     response_conn\u001b[39m=\u001b[39;49mresponse_conn,\n\u001b[1;32m    800\u001b[0m     preload_content\u001b[39m=\u001b[39;49mpreload_content,\n\u001b[1;32m    801\u001b[0m     decode_content\u001b[39m=\u001b[39;49mdecode_content,\n\u001b[1;32m    802\u001b[0m     \u001b[39m*\u001b[39;49m\u001b[39m*\u001b[39;49mresponse_kw,\n\u001b[1;32m    803\u001b[0m )\n\u001b[1;32m    805\u001b[0m \u001b[39m# Everything went great!\u001b[39;00m\n\u001b[1;32m    806\u001b[0m clean_exit \u001b[39m=\u001b[39m \u001b[39mTrue\u001b[39;00m\n",
      "File \u001b[0;32m~/miniforge3/lib/python3.10/site-packages/urllib3/connectionpool.py:536\u001b[0m, in \u001b[0;36mHTTPConnectionPool._make_request\u001b[0;34m(self, conn, method, url, body, headers, retries, timeout, chunked, response_conn, preload_content, decode_content, enforce_content_length)\u001b[0m\n\u001b[1;32m    534\u001b[0m \u001b[39m# Receive the response from the server\u001b[39;00m\n\u001b[1;32m    535\u001b[0m \u001b[39mtry\u001b[39;00m:\n\u001b[0;32m--> 536\u001b[0m     response \u001b[39m=\u001b[39m conn\u001b[39m.\u001b[39;49mgetresponse()\n\u001b[1;32m    537\u001b[0m \u001b[39mexcept\u001b[39;00m (BaseSSLError, \u001b[39mOSError\u001b[39;00m) \u001b[39mas\u001b[39;00m e:\n\u001b[1;32m    538\u001b[0m     \u001b[39mself\u001b[39m\u001b[39m.\u001b[39m_raise_timeout(err\u001b[39m=\u001b[39me, url\u001b[39m=\u001b[39murl, timeout_value\u001b[39m=\u001b[39mread_timeout)\n",
      "File \u001b[0;32m~/miniforge3/lib/python3.10/site-packages/urllib3/connection.py:461\u001b[0m, in \u001b[0;36mHTTPConnection.getresponse\u001b[0;34m(self)\u001b[0m\n\u001b[1;32m    458\u001b[0m \u001b[39mfrom\u001b[39;00m \u001b[39m.\u001b[39;00m\u001b[39mresponse\u001b[39;00m \u001b[39mimport\u001b[39;00m HTTPResponse\n\u001b[1;32m    460\u001b[0m \u001b[39m# Get the response from http.client.HTTPConnection\u001b[39;00m\n\u001b[0;32m--> 461\u001b[0m httplib_response \u001b[39m=\u001b[39m \u001b[39msuper\u001b[39;49m()\u001b[39m.\u001b[39;49mgetresponse()\n\u001b[1;32m    463\u001b[0m \u001b[39mtry\u001b[39;00m:\n\u001b[1;32m    464\u001b[0m     assert_header_parsing(httplib_response\u001b[39m.\u001b[39mmsg)\n",
      "File \u001b[0;32m~/miniforge3/lib/python3.10/http/client.py:1375\u001b[0m, in \u001b[0;36mHTTPConnection.getresponse\u001b[0;34m(self)\u001b[0m\n\u001b[1;32m   1373\u001b[0m \u001b[39mtry\u001b[39;00m:\n\u001b[1;32m   1374\u001b[0m     \u001b[39mtry\u001b[39;00m:\n\u001b[0;32m-> 1375\u001b[0m         response\u001b[39m.\u001b[39;49mbegin()\n\u001b[1;32m   1376\u001b[0m     \u001b[39mexcept\u001b[39;00m \u001b[39mConnectionError\u001b[39;00m:\n\u001b[1;32m   1377\u001b[0m         \u001b[39mself\u001b[39m\u001b[39m.\u001b[39mclose()\n",
      "File \u001b[0;32m~/miniforge3/lib/python3.10/http/client.py:318\u001b[0m, in \u001b[0;36mHTTPResponse.begin\u001b[0;34m(self)\u001b[0m\n\u001b[1;32m    316\u001b[0m \u001b[39m# read until we get a non-100 response\u001b[39;00m\n\u001b[1;32m    317\u001b[0m \u001b[39mwhile\u001b[39;00m \u001b[39mTrue\u001b[39;00m:\n\u001b[0;32m--> 318\u001b[0m     version, status, reason \u001b[39m=\u001b[39m \u001b[39mself\u001b[39;49m\u001b[39m.\u001b[39;49m_read_status()\n\u001b[1;32m    319\u001b[0m     \u001b[39mif\u001b[39;00m status \u001b[39m!=\u001b[39m CONTINUE:\n\u001b[1;32m    320\u001b[0m         \u001b[39mbreak\u001b[39;00m\n",
      "File \u001b[0;32m~/miniforge3/lib/python3.10/http/client.py:279\u001b[0m, in \u001b[0;36mHTTPResponse._read_status\u001b[0;34m(self)\u001b[0m\n\u001b[1;32m    278\u001b[0m \u001b[39mdef\u001b[39;00m \u001b[39m_read_status\u001b[39m(\u001b[39mself\u001b[39m):\n\u001b[0;32m--> 279\u001b[0m     line \u001b[39m=\u001b[39m \u001b[39mstr\u001b[39m(\u001b[39mself\u001b[39;49m\u001b[39m.\u001b[39;49mfp\u001b[39m.\u001b[39;49mreadline(_MAXLINE \u001b[39m+\u001b[39;49m \u001b[39m1\u001b[39;49m), \u001b[39m\"\u001b[39m\u001b[39miso-8859-1\u001b[39m\u001b[39m\"\u001b[39m)\n\u001b[1;32m    280\u001b[0m     \u001b[39mif\u001b[39;00m \u001b[39mlen\u001b[39m(line) \u001b[39m>\u001b[39m _MAXLINE:\n\u001b[1;32m    281\u001b[0m         \u001b[39mraise\u001b[39;00m LineTooLong(\u001b[39m\"\u001b[39m\u001b[39mstatus line\u001b[39m\u001b[39m\"\u001b[39m)\n",
      "File \u001b[0;32m~/miniforge3/lib/python3.10/socket.py:705\u001b[0m, in \u001b[0;36mSocketIO.readinto\u001b[0;34m(self, b)\u001b[0m\n\u001b[1;32m    703\u001b[0m \u001b[39mwhile\u001b[39;00m \u001b[39mTrue\u001b[39;00m:\n\u001b[1;32m    704\u001b[0m     \u001b[39mtry\u001b[39;00m:\n\u001b[0;32m--> 705\u001b[0m         \u001b[39mreturn\u001b[39;00m \u001b[39mself\u001b[39;49m\u001b[39m.\u001b[39;49m_sock\u001b[39m.\u001b[39;49mrecv_into(b)\n\u001b[1;32m    706\u001b[0m     \u001b[39mexcept\u001b[39;00m timeout:\n\u001b[1;32m    707\u001b[0m         \u001b[39mself\u001b[39m\u001b[39m.\u001b[39m_timeout_occurred \u001b[39m=\u001b[39m \u001b[39mTrue\u001b[39;00m\n",
      "File \u001b[0;32m~/miniforge3/lib/python3.10/ssl.py:1307\u001b[0m, in \u001b[0;36mSSLSocket.recv_into\u001b[0;34m(self, buffer, nbytes, flags)\u001b[0m\n\u001b[1;32m   1303\u001b[0m     \u001b[39mif\u001b[39;00m flags \u001b[39m!=\u001b[39m \u001b[39m0\u001b[39m:\n\u001b[1;32m   1304\u001b[0m         \u001b[39mraise\u001b[39;00m \u001b[39mValueError\u001b[39;00m(\n\u001b[1;32m   1305\u001b[0m           \u001b[39m\"\u001b[39m\u001b[39mnon-zero flags not allowed in calls to recv_into() on \u001b[39m\u001b[39m%s\u001b[39;00m\u001b[39m\"\u001b[39m \u001b[39m%\u001b[39m\n\u001b[1;32m   1306\u001b[0m           \u001b[39mself\u001b[39m\u001b[39m.\u001b[39m\u001b[39m__class__\u001b[39m)\n\u001b[0;32m-> 1307\u001b[0m     \u001b[39mreturn\u001b[39;00m \u001b[39mself\u001b[39;49m\u001b[39m.\u001b[39;49mread(nbytes, buffer)\n\u001b[1;32m   1308\u001b[0m \u001b[39melse\u001b[39;00m:\n\u001b[1;32m   1309\u001b[0m     \u001b[39mreturn\u001b[39;00m \u001b[39msuper\u001b[39m()\u001b[39m.\u001b[39mrecv_into(buffer, nbytes, flags)\n",
      "File \u001b[0;32m~/miniforge3/lib/python3.10/ssl.py:1163\u001b[0m, in \u001b[0;36mSSLSocket.read\u001b[0;34m(self, len, buffer)\u001b[0m\n\u001b[1;32m   1161\u001b[0m \u001b[39mtry\u001b[39;00m:\n\u001b[1;32m   1162\u001b[0m     \u001b[39mif\u001b[39;00m buffer \u001b[39mis\u001b[39;00m \u001b[39mnot\u001b[39;00m \u001b[39mNone\u001b[39;00m:\n\u001b[0;32m-> 1163\u001b[0m         \u001b[39mreturn\u001b[39;00m \u001b[39mself\u001b[39;49m\u001b[39m.\u001b[39;49m_sslobj\u001b[39m.\u001b[39;49mread(\u001b[39mlen\u001b[39;49m, buffer)\n\u001b[1;32m   1164\u001b[0m     \u001b[39melse\u001b[39;00m:\n\u001b[1;32m   1165\u001b[0m         \u001b[39mreturn\u001b[39;00m \u001b[39mself\u001b[39m\u001b[39m.\u001b[39m_sslobj\u001b[39m.\u001b[39mread(\u001b[39mlen\u001b[39m)\n",
      "\u001b[0;31mKeyboardInterrupt\u001b[0m: "
     ]
    }
   ],
   "source": [
    "# q = \"TITLE-ABS-KEY ( energy AND justice ) AND DOCTYPE ( re ) AND PUBYEAR > 2015\"\n",
    "frames = []\n",
    "for combo in tqdm(combinations):\n",
    "    q6 = f\"TITLE-ABS-KEY({combine_terms(combo)})\"\n",
    "    x = ScopusSearch(query=q6, view='COMPLETE')\n",
    "    if x.results:\n",
    "        print(f\"{len(x.results)} matches found.\", flush=True, end='\\')\n",
    "        results = pd.DataFrame([doc._asdict() for doc in x.results])\n",
    "        # results['query_terms'] = combo*len(results)\n",
    "        frames.append(results)"
   ]
  },
  {
   "cell_type": "code",
   "execution_count": 50,
   "id": "3feffac9",
   "metadata": {},
   "outputs": [],
   "source": [
    "files = glob.glob(\"./output/question_06/*.json\")\n",
    "journal = set()\n",
    "for f in files:\n",
    "    with open(f, 'r') as doc:\n",
    "        data = json.load(doc)\n",
    "    journal.add(data['publicationName'])"
   ]
  },
  {
   "cell_type": "code",
   "execution_count": 52,
   "id": "28103463",
   "metadata": {},
   "outputs": [
    {
     "data": {
      "text/plain": [
       "2116"
      ]
     },
     "execution_count": 52,
     "metadata": {},
     "output_type": "execute_result"
    }
   ],
   "source": [
    "len(journal)"
   ]
  },
  {
   "cell_type": "code",
   "execution_count": 38,
   "id": "b69e5cc8",
   "metadata": {},
   "outputs": [],
   "source": [
    "df = pd.concat(frames, axis=0)"
   ]
  }
 ],
 "metadata": {
  "kernelspec": {
   "display_name": "Python 3 (ipykernel)",
   "language": "python",
   "name": "python3"
  },
  "language_info": {
   "codemirror_mode": {
    "name": "ipython",
    "version": 3
   },
   "file_extension": ".py",
   "mimetype": "text/x-python",
   "name": "python",
   "nbconvert_exporter": "python",
   "pygments_lexer": "ipython3",
   "version": "3.10.13"
  }
 },
 "nbformat": 4,
 "nbformat_minor": 5
}
